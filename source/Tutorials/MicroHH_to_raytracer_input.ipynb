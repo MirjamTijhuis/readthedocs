{
 "cells": [
  {
   "cell_type": "markdown",
   "id": "37c83631",
   "metadata": {},
   "source": [
    "# MicroHH_to_raytracer_input step-by-step"
   ]
  },
  {
   "cell_type": "markdown",
   "id": "52d948fa",
   "metadata": {},
   "source": [
    "This is the notebook version of /python/microhh_to_raytracer_input.py.\n",
    "Dummy data is provided to demonstrate the functions in this python files. This is data for a small domain/coarse grid version of the cabauw case. To apply the script to your own data, simply replace the dummy data by your own data."
   ]
  },
  {
   "cell_type": "markdown",
   "id": "7035704e",
   "metadata": {},
   "source": [
    "We first import the required modules"
   ]
  },
  {
   "cell_type": "code",
   "execution_count": 1,
   "id": "511607c5",
   "metadata": {},
   "outputs": [],
   "source": [
    "import microhh_tools as mht  \n",
    "import numpy as np\n",
    "import netCDF4 as nc\n",
    "from scipy.interpolate import interp1d\n",
    "import argparse"
   ]
  },
  {
   "cell_type": "markdown",
   "id": "8f148a00",
   "metadata": {},
   "source": [
    "Here we define the function that computes the solar zenith and azimuth angle from the location and time as well as a function that determines the distance from the sun to scale the top of atmosphere incoming radiation."
   ]
  },
  {
   "cell_type": "code",
   "execution_count": null,
   "id": "96a7bfc4",
   "metadata": {},
   "outputs": [],
   "source": [
    "def solar_angles(lon, lat, day_of_year, year, seconds_since_midnight):\n",
    "    #Based on: Paltridge, G. W. and Platt, C. M. R. (1976).\n",
    "    #                 Radiative Processes in Meteorology and Climatology.\n",
    "    #                 Elsevier, New York, 318 pp.\n",
    "\n",
    "    if (year%4 == 0) and ((year%100 != 0) or (year%400 == 0)):\n",
    "        days_per_year = 366\n",
    "    else:\n",
    "        days_per_year = 365\n",
    "\n",
    "    doy = day_of_year-1\n",
    "    radlat = lat * np.pi / 180.\n",
    "    radlon = lon * np.pi / 180.\n",
    "\n",
    "    doy_pi = 2.*np.pi*doy/days_per_year\n",
    "\n",
    "    declination_angle = \\\n",
    "        0.006918 - 0.399912 * np.cos(doy_pi) + 0.070257 * np.sin(doy_pi)\\\n",
    "      - 0.006758 * np.cos(2*doy_pi) + 0.000907 * np.sin(2*doy_pi)\\\n",
    "      - 0.002697 * np.cos(3*doy_pi) + 0.00148  * np.sin(3*doy_pi)\n",
    "\n",
    "    a1 = (1.00554 * doy -  6.28306) * np.pi/180\n",
    "    a2 = (1.93946 * doy + 23.35089) * np.pi/180\n",
    "    a3 = (7.67825 * np.sin(a1) + 10.09176 * np.sin(a2)) / 60\n",
    "\n",
    "    hour_solar_time = (seconds_since_midnight/3600) - a3 + radlon * (180./np.pi/15.0)\n",
    "    hour_angle = (hour_solar_time-12)*15.0*(np.pi/180)\n",
    "\n",
    "    cos_zenith = np.sin(radlat) * np.sin(declination_angle)\\\n",
    "                    + np.cos(radlat) * np.cos(declination_angle) * np.cos(hour_angle)\n",
    "\n",
    "    cos_elevation = np.cos(0.5*np.pi - np.arccos(cos_zenith))\n",
    "\n",
    "    cos_azimuth = (\\\n",
    "          np.cos(radlat) * np.sin(declination_angle)\\\n",
    "        - np.sin(radlat) * np.cos(declination_angle) * np.cos(hour_angle) ) / cos_elevation\n",
    "\n",
    "    azimuth = np.arccos(cos_azimuth) if hour_angle <= 0. else 2.*np.pi - np.arccos(cos_azimuth)\n",
    "\n",
    "    return cos_zenith, azimuth\n",
    "\n",
    "def calc_sun_distance_factor(day_of_year, seconds_since_midnight):\n",
    "    # Based on: An Introduction to Atmospheric Radiation, Liou, Eq. 2.2.9.\n",
    "    an = [1.000110, 0.034221, 0.000719]\n",
    "    bn = [0,        0.001280, 0.000077]\n",
    "    frac_doy = day_of_year + seconds_since_midnight / 86400.\n",
    "    t = 2. * np.pi*(frac_doy - 1.)/ 365.\n",
    "\n",
    "    factor = 0.\n",
    "    for n in range(3):\n",
    "        factor += an[n]*np.cos(n*t) + bn[n]*np.sin(n*t);\n",
    "\n",
    "    return factor"
   ]
  },
  {
   "cell_type": "markdown",
   "id": "8208bf66",
   "metadata": {},
   "source": [
    "We define a helper function to read the liquid and ice water contents if they are provided"
   ]
  },
  {
   "cell_type": "code",
   "execution_count": 1,
   "id": "7c6573ac",
   "metadata": {},
   "outputs": [],
   "source": [
    "def read_if_exists(var, t, dims):\n",
    "    try:\n",
    "        return np.fromfile(\"{}.{:07d}\".format(var,t),TF).reshape(dims)\n",
    "    except:\n",
    "        return np.zeros(dims)"
   ]
  },
  {
   "cell_type": "markdown",
   "id": "968b976a",
   "metadata": {},
   "source": [
    "In addition, we define some functions to calculate the relative humidity "
   ]
  },
  {
   "cell_type": "code",
   "execution_count": 2,
   "id": "bf193d24",
   "metadata": {},
   "outputs": [],
   "source": [
    "Rd = 287.04\n",
    "Rv = 461.5\n",
    "ep = Rd/Rv\n",
    "T0 = 273.15\n",
    "\n",
    "def esat_liq(T):\n",
    "    x = np.maximum(-75., T-T0)\n",
    "    return 611.21*np.exp(17.502*x / (240.97+x))\n",
    "\n",
    "def esat_ice(T):\n",
    "    x = np.maximum(-100., T-T0)\n",
    "    return 611.15*np.exp(22.452*x / (272.55+x))\n",
    "\n",
    "def qsat_liq(p, T):\n",
    "    return ep*esat_liq(T)/(p-(1.-ep)*esat_liq(T))\n",
    "\n",
    "def qsat_ice(p, T):\n",
    "    return ep*esat_ice(T)/(p-(1.-ep)*esat_ice(T))\n",
    "\n",
    "def water_fraction(T):\n",
    "    return np.maximum(0., np.minimum((T - 233.15) / (T0 - 233.15), 1.))\n",
    "\n",
    "def qsat(p, T):\n",
    "    alpha = water_fraction(T)\n",
    "    return alpha*qsat_liq(p, T) + (1.-alpha)*qsat_ice(p, T)"
   ]
  },
  {
   "cell_type": "code",
   "execution_count": 3,
   "id": "cd5af203",
   "metadata": {},
   "outputs": [],
   "source": [
    "# define the simulation name, simulation time, and path to the input data. \n",
    "\n",
    "# when running the python script outside of this notebook, these arguments have to be provided, \n",
    "# e.g. python3 microhh_to_raytracer_input.py --name cabauw --time 3600\n",
    "# parser = argparse.ArgumentParser()\n",
    "# parser.add_argument(\"-n\",\"--name\", type=str, help=\"simulating name, that is, name of the .ini file\")\n",
    "# parser.add_argument(\"-t\",\"--time\", type=int, help=\"simulation time step to convert\")\n",
    "# parser.add_argument(\"-p\",\"--path\", type=str, help=\"Path to simulation files, defaults to current directory\",default=\"./\")\n",
    "# args = parser.parse_args()\n",
    "\n",
    "# input: name of case, time step\n",
    "# name = args.name\n",
    "# time = args.time\n",
    "# path = args.path\n",
    "\n",
    "name = 'cabauw'\n",
    "time = 3600\n",
    "path = 'example_data/'"
   ]
  },
  {
   "cell_type": "code",
   "execution_count": 4,
   "id": "d680de08",
   "metadata": {},
   "outputs": [],
   "source": [
    "# some constants\n",
    "xm_air = 28.97\n",
    "xm_h2o = 18.01528\n",
    "eps = xm_h2o / xm_air\n",
    "TF = np.float32\n",
    "g = 9.81"
   ]
  },
  {
   "cell_type": "code",
   "execution_count": 5,
   "id": "a8c24a17",
   "metadata": {},
   "outputs": [],
   "source": [
    "# size of null-collision grid:\n",
    "ng_x = 48\n",
    "ng_y = 48\n",
    "ng_z = 32"
   ]
  },
  {
   "cell_type": "code",
   "execution_count": 6,
   "id": "da0b2adc",
   "metadata": {},
   "outputs": [],
   "source": [
    "# read namelist\n",
    "nl = mht.Read_namelist(path+\"{}.ini\".format(name))\n",
    "\n",
    "# precision of timestep in microhh output\n",
    "iotimeprec = nl['time']['iotimeprec'] if 'iotimeprec' in nl['time'] else 0\n",
    "iotime = int(round(time / 10**iotimeprec))\n",
    "\n",
    "# convert simulation to local time\n",
    "lon = nl['grid']['lon']\n",
    "lat = nl['grid']['lat']\n",
    "dt_utc = nl['time']['datetime_utc']\n",
    "year = int(dt_utc[:4])\n",
    "day_of_year = int((np.datetime64(dt_utc[:10]) - np.datetime64(\"{}-01-01\".format(year))) / np.timedelta64(1, 'D')) + 1\n",
    "seconds_since_midnight = int(dt_utc[11:13])*3600 + int(dt_utc[14:16])*60 + int(dt_utc[17:19]) + time\n",
    "\n",
    "# compute solar angles\n",
    "mu0, azi = solar_angles(lon, lat, day_of_year, year, seconds_since_midnight)\n",
    "\n",
    "# scale top-of-atmosphere irradiance based on distance to sun at time of year\n",
    "tsi_scaling = calc_sun_distance_factor(day_of_year, seconds_since_midnight)"
   ]
  },
  {
   "cell_type": "code",
   "execution_count": 7,
   "id": "bd497bf6",
   "metadata": {},
   "outputs": [],
   "source": [
    "# read stats\n",
    "nc_stat = nc.Dataset(path+\"{}.default.0000000.nc\".format(name))\n",
    "t_idx = np.where(nc_stat['time'][:] == time)[0][0]"
   ]
  },
  {
   "cell_type": "code",
   "execution_count": 8,
   "id": "b11a08d2",
   "metadata": {},
   "outputs": [],
   "source": [
    "# read input\n",
    "nc_inp = nc.Dataset(path+\"{}_input.nc\".format(name))"
   ]
  },
  {
   "cell_type": "code",
   "execution_count": 9,
   "id": "cbe1ce23",
   "metadata": {},
   "outputs": [],
   "source": [
    "# pressure and base state density profiles\n",
    "play = nc_stat['thermo']['phydro'][t_idx]\n",
    "plev = nc_stat['thermo']['phydroh'][t_idx]\n",
    "rho = nc_stat['thermo']['rho'][t_idx]"
   ]
  },
  {
   "cell_type": "code",
   "execution_count": 10,
   "id": "23db4fcf",
   "metadata": {},
   "outputs": [],
   "source": [
    "# switches\n",
    "swtimedep = nl['radiation']['swtimedep_background'] if 'swtimedep_background' in nl['radiation'] else 0\n",
    "gaslist = nl['radiation']['timedeplist_gas'] if 'timedeplist_gas' in nl['radiation'] else []\n",
    "if 'aerosol' in nl.groups:\n",
    "    swaerosol = nl['aerosol']['swaerosol'] if 'swaerosol' in nl['aerosol'] else 0\n",
    "    swtimedep_aerosol = nl['aerosol']['swtimedep'] if 'swtimedep' in nl['aerosol'] else 0\n",
    "else:\n",
    "    swaerosol = 0\n",
    "    swtimedep_aerosol = 0"
   ]
  },
  {
   "cell_type": "code",
   "execution_count": 11,
   "id": "88f48aab",
   "metadata": {},
   "outputs": [],
   "source": [
    "# dimensions and grid\n",
    "itot = nl['grid']['itot']\n",
    "jtot = nl['grid']['jtot']\n",
    "ktot = nl['grid']['ktot']\n",
    "dims = (ktot, jtot, itot)\n",
    "\n",
    "grid = mht.Read_grid(itot, jtot, ktot,filename=path+\"grid.0000000\")\n",
    "\n",
    "dz = np.diff(grid.dim['zh'][:])\n",
    "\n",
    "zlay = grid.dim['z']\n",
    "zlev = grid.dim['zh']\n",
    "\n",
    "nz = ktot\n",
    "grid_z = grid.dim['z']\n",
    "grid_zh = grid.dim['zh']"
   ]
  },
  {
   "cell_type": "code",
   "execution_count": 12,
   "id": "626c6805",
   "metadata": {},
   "outputs": [],
   "source": [
    "# read temperature, humidity\n",
    "qt = np.fromfile(path+\"qt.{:07d}\".format(iotime),TF).reshape(dims)\n",
    "tlay = np.fromfile(path+\"T.{:07d}\".format(iotime),TF).reshape(dims)\n",
    "\n",
    "# convert qt from kg/kg to vmr\n",
    "h2o = qt / (ep - ep*qt)\n",
    "h2o = np.maximum(0, h2o)"
   ]
  },
  {
   "cell_type": "code",
   "execution_count": 13,
   "id": "32cb29df",
   "metadata": {},
   "outputs": [],
   "source": [
    "# cloud properties and effective radius\n",
    "ql = read_if_exists(path+\"ql\", iotime, dims)\n",
    "lwp = ql * (dz*rho)[:,np.newaxis,np.newaxis] # kg/m2\n",
    "\n",
    "qi = read_if_exists(path+\"qi\", iotime, dims)\n",
    "iwp = qi * (dz*rho)[:,np.newaxis,np.newaxis] # kg/m2\n",
    "\n",
    "nc0 = nl['micro']['Nc0']\n",
    "ftpnr_w = (4./3) * np.pi * nc0 * 1e3\n",
    "ftpnr_i = (4./3) * np.pi * 1e5 * 7e2\n",
    "sig_fac = np.exp(np.log(1.34)*np.log(1.34))\n",
    "rel = np.where(lwp>0, 1e6 * sig_fac * (lwp / dz[:,np.newaxis,np.newaxis] / ftpnr_w)**(1./3), 0)\n",
    "rei = np.where(iwp>0, 1e6 * sig_fac * (iwp / dz[:,np.newaxis,np.newaxis] / ftpnr_i)**(1./3), 0)\n",
    "\n",
    "rel = np.maximum(2.5, np.minimum(rel, 21.5))\n",
    "rei = np.maximum(10., np.minimum(rei, 180.))\n",
    "\n",
    "lwp *= 1e3 # g/m2\n",
    "iwp *= 1e3 # g/m2\n"
   ]
  },
  {
   "cell_type": "code",
   "execution_count": 14,
   "id": "5dc5eb64",
   "metadata": {},
   "outputs": [],
   "source": [
    "# read bg profile\n",
    "if swtimedep:\n",
    "    f_h2o_bg = interp1d(nc_inp['timedep']['time_rad'], nc_inp['timedep']['h2o_bg'], axis=0)\n",
    "    h2o_bg = f_h2o_bg(time)\n",
    "    f_zlay_bg = interp1d(nc_inp['timedep']['time_rad'], nc_inp['timedep']['z_lay'], axis=0)\n",
    "    zlay_bg = f_zlay_bg(time)\n",
    "    f_zlev_bg = interp1d(nc_inp['timedep']['time_rad'], nc_inp['timedep']['z_lev'], axis=0)\n",
    "    zlev_bg = f_zlev_bg(time)\n",
    "    f_play_bg = interp1d(nc_inp['timedep']['time_rad'], nc_inp['timedep']['p_lay'], axis=0)\n",
    "    play_bg = f_play_bg(time)\n",
    "    f_plev_bg = interp1d(nc_inp['timedep']['time_rad'], nc_inp['timedep']['p_lev'], axis=0)\n",
    "    plev_bg = f_plev_bg(time)\n",
    "    f_tlay_bg = interp1d(nc_inp['timedep']['time_rad'], nc_inp['timedep']['t_lay'], axis=0)\n",
    "    tlay_bg = f_tlay_bg(time)\n",
    "    f_tlev_bg = interp1d(nc_inp['timedep']['time_rad'], nc_inp['timedep']['t_lev'], axis=0)\n",
    "    tlev_bg = f_tlev_bg(time)\n",
    "else:\n",
    "    h2o_bg = nc_inp['radiation']['h2o']\n",
    "    zlay_bg = nc_inp['radiation']['z_lay']\n",
    "    zlev_bg = nc_inp['radiation']['z_lev']\n",
    "    play_bg = nc_inp['radiation']['p_lay']\n",
    "    plev_bg = nc_inp['radiation']['p_lev']\n",
    "    tlay_bg = nc_inp['radiation']['t_lay']\n",
    "    tlev_bg = nc_inp['radiation']['t_lev']\n"
   ]
  },
  {
   "cell_type": "code",
   "execution_count": 15,
   "id": "ea1bb899",
   "metadata": {},
   "outputs": [],
   "source": [
    "# find lowest height in bg profile that is heigher than domain top\n",
    "z_tod = grid.dim['zh'][-1]\n",
    "zmin_idx = np.where(zlay_bg[:] > z_tod)[0][0]\n",
    "\n",
    "zlay = np.append(zlay, zlay_bg[zmin_idx:])\n",
    "zlev = np.append(zlev, zlev_bg[zmin_idx+1:])\n",
    "zlev[nz] = nz*(grid_z[1]-grid_z[0])"
   ]
  },
  {
   "cell_type": "code",
   "execution_count": 16,
   "id": "0d825bb3",
   "metadata": {},
   "outputs": [],
   "source": [
    "# patch pressure profiles\n",
    "play = np.append(play, play_bg[zmin_idx:])\n",
    "plev = np.append(plev, plev_bg[zmin_idx+1:])\n"
   ]
  },
  {
   "cell_type": "code",
   "execution_count": 17,
   "id": "04f4b715",
   "metadata": {},
   "outputs": [],
   "source": [
    "### Writing output\n",
    "# create netcdf file\n",
    "nc_out = nc.Dataset(path + \"rte_rrtmgp_input.nc\", \"w\")\n",
    "\n",
    "## create dimensions\n",
    "nc_out.createDimension(\"band_sw\", 14)\n",
    "nc_out.createDimension(\"band_lw\", 16)\n",
    "nc_out.createDimension(\"lay\", len(play))\n",
    "nc_out.createDimension(\"lev\", len(plev))\n",
    "nc_out.createDimension(\"x\", itot)\n",
    "nc_out.createDimension(\"y\", jtot)\n",
    "nc_out.createDimension(\"z\", nz)\n",
    "nc_out.createDimension(\"xh\", itot+1)\n",
    "nc_out.createDimension(\"yh\", jtot+1)\n",
    "nc_out.createDimension(\"zh\", nz+1)\n",
    "\n",
    "# write raytracing grids\n",
    "nc_x = nc_out.createVariable(\"x\", TF, (\"x\",))\n",
    "nc_x[:] = grid.dim['x'][:]\n",
    "nc_y = nc_out.createVariable(\"y\", TF, (\"y\",))\n",
    "nc_y[:] = grid.dim['y'][:]\n",
    "nc_z = nc_out.createVariable(\"z\", TF, (\"z\",))\n",
    "nc_z[:] = grid_z\n",
    "\n",
    "grid_xh = np.append(grid.dim['xh'][:], grid.dim['xh'][-1] +  (grid.dim['xh'][1] -  grid.dim['xh'][0]))\n",
    "grid_yh = np.append(grid.dim['yh'][:], grid.dim['yh'][-1] +  (grid.dim['yh'][1] -  grid.dim['yh'][0]))\n",
    "\n",
    "nc_xh = nc_out.createVariable(\"xh\", TF, (\"xh\",))\n",
    "nc_xh[:] = grid_xh\n",
    "nc_yh = nc_out.createVariable(\"yh\", TF, (\"yh\",))\n",
    "nc_yh[:] = grid_yh\n",
    "nc_zh = nc_out.createVariable(\"zh\", TF, (\"zh\",))\n",
    "nc_zh[:] = grid_zh\n",
    "\n",
    "nc_zlay = nc_out.createVariable(\"zlay\", TF, (\"lay\"))\n",
    "nc_zlev = nc_out.createVariable(\"z_lev\", TF, (\"lev\"))\n",
    "nc_zlay[:] = zlay\n",
    "nc_zlev[:] = zlev\n",
    "\n",
    "# write pressures\n",
    "nc_play = nc_out.createVariable(\"p_lay\", TF, (\"lay\",\"y\",\"x\"))\n",
    "nc_play[:] = np.tile(play.reshape(len(play),1,1), (1, jtot, itot))\n",
    "nc_plev = nc_out.createVariable(\"p_lev\", TF, (\"lev\",\"y\",\"x\"))\n",
    "nc_plev[:] = np.tile(plev.reshape(len(plev),1,1), (1, jtot, itot))\n",
    "\n",
    "# write density profile\n",
    "nc_rho = nc_out.createVariable(\"rho\", TF, (\"z\",))\n",
    "nc_rho[:] = rho\n",
    "\n",
    "# remaining 3D variables\n",
    "nc_h2o = nc_out.createVariable(\"vmr_h2o\", TF, (\"lay\",\"y\",\"x\"))\n",
    "nc_h2o[:] = np.append(h2o[:], np.tile(h2o_bg[zmin_idx:][:,None,None], (1, jtot, itot)), axis=0)\n",
    "nc_tlay = nc_out.createVariable(\"t_lay\", TF, (\"lay\",\"y\",\"x\"))\n",
    "nc_tlay[:] = np.append(tlay[:], np.tile(tlay_bg[zmin_idx:][:,None,None], (1, jtot, itot)), axis=0)\n",
    "\n",
    "# We do not bother about t_lev yet  because the ray tracer is shortwave-only, but we do need to supply it in the netcdf\n",
    "nc_tlev = nc_out.createVariable(\"t_lev\", TF, (\"lev\",\"y\",\"x\"))\n",
    "nc_tlev[:] = 0 \n",
    "\n",
    "# Liquid water path\n",
    "nc_lwp = nc_out.createVariable(\"lwp\" , TF, (\"lay\",\"y\",\"x\"))\n",
    "nc_lwp[:] = 0\n",
    "nc_lwp[:ktot] = lwp\n",
    "\n",
    "# Liquid water effective radius\n",
    "nc_rel = nc_out.createVariable(\"rel\" , TF, (\"lay\",\"y\",\"x\"))\n",
    "nc_rel[:] = 0\n",
    "nc_rel[:ktot] = rel\n",
    "\n",
    "# Ice water path\n",
    "nc_iwp = nc_out.createVariable(\"iwp\" , TF, (\"lay\",\"y\",\"x\"))\n",
    "nc_iwp[:] = 0\n",
    "nc_iwp[:ktot] = iwp\n",
    "\n",
    "# Ice effective radius\n",
    "nc_rei = nc_out.createVariable(\"rei\" , TF, (\"lay\",\"y\",\"x\"))\n",
    "nc_rei[:] = 0\n",
    "nc_rei[:ktot] = rei\n",
    "\n",
    "# surface properties\n",
    "nc_alb_dir = nc_out.createVariable(\"sfc_alb_dir\", TF, (\"y\",\"x\",\"band_sw\"))\n",
    "nc_alb_dir[:] = nl['radiation']['sfc_alb_dir']\n",
    "nc_alb_dif = nc_out.createVariable(\"sfc_alb_dif\", TF, (\"y\",\"x\",\"band_sw\"))\n",
    "nc_alb_dif[:] = nl['radiation']['sfc_alb_dif']\n",
    "nc_emis = nc_out.createVariable(\"emis_sfc\", TF, (\"y\",\"x\",\"band_lw\"))\n",
    "nc_emis[:] = nl['radiation']['emis_sfc']\n",
    "nc_tsfc = nc_out.createVariable(\"t_sfc\", TF, (\"y\",\"x\"))\n",
    "nc_tsfc[:] = 0 # don't bother about longwave for now\n",
    "\n",
    "# solar angles\n",
    "nc_mu = nc_out.createVariable(\"mu0\", TF, (\"y\",\"x\"))\n",
    "nc_mu[:] = mu0\n",
    "nc_az = nc_out.createVariable(\"azi\", TF, (\"y\",\"x\"))\n",
    "nc_az[:] = azi\n",
    "\n",
    "# Scaling top-of-atmosphere irradiance\n",
    "nc_ts = nc_out.createVariable(\"tsi_scaling\", TF)\n",
    "nc_ts[:] = tsi_scaling\n",
    "\n",
    "# add gasses\n",
    "possible_gases = [\"co2\", \"o3\", \"n2o\", \"co\", \"ch4\", \"o2\", \"n2\", \"ccl4\", \"cfc11\", \"cfc12\", \"cfc22\",\n",
    "                  \"hfc143a\", \"hfc125\", \"hfc23\", \"hfc32\", \"hfc134a\", \"cf4\", \"no2\"]\n",
    "for gas in possible_gases:\n",
    "    if gas in nc_inp['radiation'].variables.keys():\n",
    "        if len(nc_inp['radiation'][gas].dimensions) != 0 and len(nc_inp['init'][gas].dimensions) != 0:\n",
    "            # in the domain\n",
    "            if gas in gaslist:\n",
    "                f_gas = interp1d(nc_inp['timedep']['time_rad'], nc_inp['timedep'][gas], axis=0)\n",
    "                gas_prof = f_gas(time)\n",
    "            else:\n",
    "                gas_prof = nc_inp['init'][gas]\n",
    "            # above the domain\n",
    "            if gas in gaslist and swtimedep:\n",
    "                f_gas_bg = interp1d(nc_inp['timedep']['time_rad'], nc_inp['timedep'][gas + '_bg'], axis=0)\n",
    "                gas_bg = f_gas_bg(time)\n",
    "            else:\n",
    "                gas_bg = nc_inp['radiation'][gas]\n",
    "\n",
    "            nc_out.createVariable(\"vmr_\" + gas, TF, (\"lay\", \"y\", \"x\"))\n",
    "            nc_out[\"vmr_\" + gas][:] = np.tile(np.append(gas_prof[:], gas_bg[zmin_idx:])[:, None, None], (1, jtot, itot))\n",
    "\n",
    "        elif len(nc_inp['radiation'][gas].dimensions) == 0 and len(nc_inp['init'][gas].dimensions) == 0:\n",
    "            nc_out.createVariable(\"vmr_\" + gas, TF)\n",
    "            nc_out[\"vmr_\" + gas][:] = nc_inp['radiation'][gas][:]\n",
    "\n",
    "        else:\n",
    "            print(\"not supported input for gas: \" + gas)\n",
    "\n",
    "# add aerosols + relative humidity\n",
    "if swaerosol:\n",
    "    aerosol_species = [\"aermr01\", \"aermr02\", \"aermr03\", \"aermr04\", \"aermr05\", \"aermr06\",\n",
    "                         \"aermr07\", \"aermr08\", \"aermr09\", \"aermr10\", \"aermr11\"]\n",
    "\n",
    "    # aerosol mixing ratios\n",
    "    for aerosol in aerosol_species:\n",
    "        # in the domain\n",
    "        if swtimedep_aerosol:\n",
    "            f_aermr = interp1d(nc_inp['timedep']['time_rad'], nc_inp['timedep'][aerosol], axis=0)\n",
    "            aermr = np.maximum(f_aermr(time), 0)\n",
    "        else:\n",
    "            aermr = nc_inp['init'][aerosol]\n",
    "        # above the domain\n",
    "        if swtimedep_aerosol and swtimedep:\n",
    "            f_aermr_bg = interp1d(nc_inp['timedep']['time_rad'], nc_inp['timedep'][aerosol + '_bg'], axis=0)\n",
    "            aermr_bg = np.maximum(f_aermr_bg(time), 0)\n",
    "        else:\n",
    "            aermr_bg = nc_inp['radiation'][aerosol]\n",
    "\n",
    "        nc_out.createVariable(aerosol, TF, (\"lay\", \"y\", \"x\"))\n",
    "        nc_out[aerosol][:] = np.tile(np.append(aermr[:], aermr_bg[zmin_idx:])[:, None, None], (1, jtot, itot))\n",
    "\n",
    "    # relative humidity\n",
    "    q = nc_h2o[:] * eps / (1 + nc_h2o[:] * eps)\n",
    "    qs = qsat(nc_play[:, :, :], nc_tlay[:])\n",
    "    rh = np.maximum(np.minimum(q / qs, 1), 0)\n",
    "    nc_out.createVariable(\"rh\", TF, (\"lay\", \"y\", \"x\"))\n",
    "    nc_out['rh'][:] = rh\n",
    "\n",
    "# size of null-collision grid\n",
    "nc_ng_x = nc_out.createVariable(\"ngrid_x\", TF)\n",
    "nc_ng_x[:] = ng_x\n",
    "nc_ng_y = nc_out.createVariable(\"ngrid_y\", TF)\n",
    "nc_ng_y[:] = ng_y\n",
    "nc_ng_z = nc_out.createVariable(\"ngrid_z\", TF)\n",
    "nc_ng_z[:] = ng_z\n"
   ]
  },
  {
   "cell_type": "code",
   "execution_count": 18,
   "id": "fa5b55ec",
   "metadata": {},
   "outputs": [
    {
     "data": {
      "text/plain": [
       "dict_keys(['band_sw', 'band_lw', 'lay', 'lev', 'x', 'y', 'z', 'xh', 'yh', 'zh'])"
      ]
     },
     "execution_count": 18,
     "metadata": {},
     "output_type": "execute_result"
    }
   ],
   "source": [
    "nc_out.dimensions.keys()"
   ]
  },
  {
   "cell_type": "code",
   "execution_count": 19,
   "id": "071ba138",
   "metadata": {},
   "outputs": [
    {
     "data": {
      "text/plain": [
       "dict_keys(['x', 'y', 'z', 'xh', 'yh', 'zh', 'zlay', 'z_lev', 'p_lay', 'p_lev', 'rho', 'vmr_h2o', 't_lay', 't_lev', 'lwp', 'rel', 'iwp', 'rei', 'sfc_alb_dir', 'sfc_alb_dif', 'emis_sfc', 't_sfc', 'mu0', 'azi', 'tsi_scaling', 'vmr_co2', 'vmr_o3', 'vmr_n2o', 'vmr_ch4', 'vmr_o2', 'vmr_n2', 'ngrid_x', 'ngrid_y', 'ngrid_z'])"
      ]
     },
     "execution_count": 19,
     "metadata": {},
     "output_type": "execute_result"
    }
   ],
   "source": [
    "nc_out.variables.keys()"
   ]
  },
  {
   "cell_type": "code",
   "execution_count": 20,
   "id": "0e30ba42",
   "metadata": {},
   "outputs": [],
   "source": [
    "nc_out.close()"
   ]
  },
  {
   "cell_type": "code",
   "execution_count": null,
   "id": "a82465e0",
   "metadata": {},
   "outputs": [],
   "source": []
  }
 ],
 "metadata": {
  "kernelspec": {
   "display_name": "Python 3 (ipykernel)",
   "language": "python",
   "name": "python3"
  },
  "language_info": {
   "codemirror_mode": {
    "name": "ipython",
    "version": 3
   },
   "file_extension": ".py",
   "mimetype": "text/x-python",
   "name": "python",
   "nbconvert_exporter": "python",
   "pygments_lexer": "ipython3",
   "version": "3.9.20"
  }
 },
 "nbformat": 4,
 "nbformat_minor": 5
}
